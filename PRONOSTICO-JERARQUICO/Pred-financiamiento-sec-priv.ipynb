{
 "cells": [
  {
   "cell_type": "markdown",
   "metadata": {},
   "source": [
    "# Prediccion de financiamiento del sector privado en México - SARIMA"
   ]
  },
  {
   "cell_type": "markdown",
   "metadata": {},
   "source": [
    "## Librerias"
   ]
  },
  {
   "cell_type": "code",
   "execution_count": 226,
   "metadata": {},
   "outputs": [],
   "source": [
    "#pip install pmdarima"
   ]
  },
  {
   "cell_type": "code",
   "execution_count": 227,
   "metadata": {},
   "outputs": [],
   "source": [
    "import pandas as pd\n",
    "from pmdarima import auto_arima"
   ]
  },
  {
   "cell_type": "markdown",
   "metadata": {},
   "source": [
    "## Data"
   ]
  },
  {
   "cell_type": "code",
   "execution_count": 228,
   "metadata": {},
   "outputs": [
    {
     "data": {
      "text/html": [
       "<div>\n",
       "<style scoped>\n",
       "    .dataframe tbody tr th:only-of-type {\n",
       "        vertical-align: middle;\n",
       "    }\n",
       "\n",
       "    .dataframe tbody tr th {\n",
       "        vertical-align: top;\n",
       "    }\n",
       "\n",
       "    .dataframe thead th {\n",
       "        text-align: right;\n",
       "    }\n",
       "</style>\n",
       "<table border=\"1\" class=\"dataframe\">\n",
       "  <thead>\n",
       "    <tr style=\"text-align: right;\">\n",
       "      <th></th>\n",
       "      <th>SF17926</th>\n",
       "      <th>SF17927</th>\n",
       "      <th>SF46380</th>\n",
       "      <th>SF46381</th>\n",
       "      <th>SF17929</th>\n",
       "      <th>SF17930</th>\n",
       "      <th>SF46382</th>\n",
       "      <th>SF46383</th>\n",
       "      <th>SF17932</th>\n",
       "      <th>SF17933</th>\n",
       "      <th>SF46384</th>\n",
       "      <th>SF46385</th>\n",
       "      <th>SF46386</th>\n",
       "      <th>SF</th>\n",
       "    </tr>\n",
       "    <tr>\n",
       "      <th>Fecha</th>\n",
       "      <th></th>\n",
       "      <th></th>\n",
       "      <th></th>\n",
       "      <th></th>\n",
       "      <th></th>\n",
       "      <th></th>\n",
       "      <th></th>\n",
       "      <th></th>\n",
       "      <th></th>\n",
       "      <th></th>\n",
       "      <th></th>\n",
       "      <th></th>\n",
       "      <th></th>\n",
       "      <th></th>\n",
       "    </tr>\n",
       "  </thead>\n",
       "  <tbody>\n",
       "    <tr>\n",
       "      <th>1996-10-01</th>\n",
       "      <td>41828.0</td>\n",
       "      <td>36373.4</td>\n",
       "      <td>1407.3</td>\n",
       "      <td>4047.3</td>\n",
       "      <td>304706.2</td>\n",
       "      <td>215689.6</td>\n",
       "      <td>1357.9</td>\n",
       "      <td>87658.8</td>\n",
       "      <td>1103253.3</td>\n",
       "      <td>589846.8</td>\n",
       "      <td>53123.8</td>\n",
       "      <td>193070.2</td>\n",
       "      <td>267212.5</td>\n",
       "      <td>1449787.5</td>\n",
       "    </tr>\n",
       "    <tr>\n",
       "      <th>1997-01-01</th>\n",
       "      <td>41515.9</td>\n",
       "      <td>33522.7</td>\n",
       "      <td>2852.6</td>\n",
       "      <td>5140.6</td>\n",
       "      <td>329182.3</td>\n",
       "      <td>237084.6</td>\n",
       "      <td>2731.9</td>\n",
       "      <td>89365.9</td>\n",
       "      <td>1119695.0</td>\n",
       "      <td>617126.9</td>\n",
       "      <td>36780.0</td>\n",
       "      <td>185345.2</td>\n",
       "      <td>280442.8</td>\n",
       "      <td>1490393.2</td>\n",
       "    </tr>\n",
       "    <tr>\n",
       "      <th>1997-04-01</th>\n",
       "      <td>41405.0</td>\n",
       "      <td>33111.0</td>\n",
       "      <td>3235.2</td>\n",
       "      <td>5058.8</td>\n",
       "      <td>337529.2</td>\n",
       "      <td>241438.8</td>\n",
       "      <td>3514.2</td>\n",
       "      <td>92576.2</td>\n",
       "      <td>1161120.6</td>\n",
       "      <td>615381.3</td>\n",
       "      <td>36939.7</td>\n",
       "      <td>203997.2</td>\n",
       "      <td>304802.5</td>\n",
       "      <td>1540054.8</td>\n",
       "    </tr>\n",
       "    <tr>\n",
       "      <th>1997-07-01</th>\n",
       "      <td>43660.9</td>\n",
       "      <td>34972.5</td>\n",
       "      <td>3773.4</td>\n",
       "      <td>4915.0</td>\n",
       "      <td>338939.1</td>\n",
       "      <td>240081.8</td>\n",
       "      <td>4538.9</td>\n",
       "      <td>94318.4</td>\n",
       "      <td>1118490.1</td>\n",
       "      <td>592079.0</td>\n",
       "      <td>35841.7</td>\n",
       "      <td>185087.5</td>\n",
       "      <td>305481.7</td>\n",
       "      <td>1501090.1</td>\n",
       "    </tr>\n",
       "    <tr>\n",
       "      <th>1997-10-01</th>\n",
       "      <td>46330.2</td>\n",
       "      <td>35470.2</td>\n",
       "      <td>4567.3</td>\n",
       "      <td>6292.7</td>\n",
       "      <td>343624.6</td>\n",
       "      <td>240742.9</td>\n",
       "      <td>5607.1</td>\n",
       "      <td>97274.6</td>\n",
       "      <td>1175248.7</td>\n",
       "      <td>608626.9</td>\n",
       "      <td>39324.0</td>\n",
       "      <td>210084.2</td>\n",
       "      <td>317213.5</td>\n",
       "      <td>1565203.5</td>\n",
       "    </tr>\n",
       "  </tbody>\n",
       "</table>\n",
       "</div>"
      ],
      "text/plain": [
       "            SF17926  SF17927  SF46380  SF46381   SF17929   SF17930  SF46382  \\\n",
       "Fecha                                                                         \n",
       "1996-10-01  41828.0  36373.4   1407.3   4047.3  304706.2  215689.6   1357.9   \n",
       "1997-01-01  41515.9  33522.7   2852.6   5140.6  329182.3  237084.6   2731.9   \n",
       "1997-04-01  41405.0  33111.0   3235.2   5058.8  337529.2  241438.8   3514.2   \n",
       "1997-07-01  43660.9  34972.5   3773.4   4915.0  338939.1  240081.8   4538.9   \n",
       "1997-10-01  46330.2  35470.2   4567.3   6292.7  343624.6  240742.9   5607.1   \n",
       "\n",
       "            SF46383    SF17932   SF17933  SF46384   SF46385   SF46386  \\\n",
       "Fecha                                                                   \n",
       "1996-10-01  87658.8  1103253.3  589846.8  53123.8  193070.2  267212.5   \n",
       "1997-01-01  89365.9  1119695.0  617126.9  36780.0  185345.2  280442.8   \n",
       "1997-04-01  92576.2  1161120.6  615381.3  36939.7  203997.2  304802.5   \n",
       "1997-07-01  94318.4  1118490.1  592079.0  35841.7  185087.5  305481.7   \n",
       "1997-10-01  97274.6  1175248.7  608626.9  39324.0  210084.2  317213.5   \n",
       "\n",
       "                   SF  \n",
       "Fecha                  \n",
       "1996-10-01  1449787.5  \n",
       "1997-01-01  1490393.2  \n",
       "1997-04-01  1540054.8  \n",
       "1997-07-01  1501090.1  \n",
       "1997-10-01  1565203.5  "
      ]
     },
     "execution_count": 228,
     "metadata": {},
     "output_type": "execute_result"
    }
   ],
   "source": [
    "df = pd.read_csv(\"C:/Users/juanj/Workspace/business_Intelligence/PRONOSTICO-JERARQUICO/FSPATC.csv\",\n",
    "            index_col=\"Fecha\",\n",
    "            parse_dates=True,\n",
    "            skiprows=8)\n",
    "df.head()"
   ]
  },
  {
   "cell_type": "code",
   "execution_count": 229,
   "metadata": {},
   "outputs": [
    {
     "name": "stdout",
     "output_type": "stream",
     "text": [
      "<class 'pandas.core.frame.DataFrame'>\n",
      "DatetimeIndex: 107 entries, 1996-10-01 to 2023-04-01\n",
      "Data columns (total 14 columns):\n",
      " #   Column   Non-Null Count  Dtype  \n",
      "---  ------   --------------  -----  \n",
      " 0   SF17926  107 non-null    float64\n",
      " 1   SF17927  107 non-null    float64\n",
      " 2   SF46380  107 non-null    float64\n",
      " 3   SF46381  107 non-null    float64\n",
      " 4   SF17929  107 non-null    float64\n",
      " 5   SF17930  107 non-null    float64\n",
      " 6   SF46382  107 non-null    float64\n",
      " 7   SF46383  107 non-null    float64\n",
      " 8   SF17932  107 non-null    float64\n",
      " 9   SF17933  107 non-null    float64\n",
      " 10  SF46384  107 non-null    float64\n",
      " 11  SF46385  107 non-null    float64\n",
      " 12  SF46386  107 non-null    float64\n",
      " 13  SF       107 non-null    float64\n",
      "dtypes: float64(14)\n",
      "memory usage: 12.5 KB\n"
     ]
    }
   ],
   "source": [
    "df.info()"
   ]
  },
  {
   "cell_type": "markdown",
   "metadata": {},
   "source": [
    "## Entrenamiento"
   ]
  },
  {
   "cell_type": "code",
   "execution_count": 230,
   "metadata": {},
   "outputs": [],
   "source": [
    "training = df.iloc[:-30,:]\n",
    "test = df.iloc[-30:,:]"
   ]
  },
  {
   "cell_type": "markdown",
   "metadata": {},
   "source": [
    "## Modelo SARIMA"
   ]
  },
  {
   "cell_type": "code",
   "execution_count": 231,
   "metadata": {},
   "outputs": [],
   "source": [
    "model =auto_arima(y = training.SF, m = 7)"
   ]
  },
  {
   "cell_type": "code",
   "execution_count": null,
   "metadata": {},
   "outputs": [],
   "source": []
  },
  {
   "cell_type": "code",
   "execution_count": 236,
   "metadata": {},
   "outputs": [
    {
     "data": {
      "text/plain": [
       "Fecha\n",
       "2016-01-01    9.099345e+06\n",
       "2016-04-01    9.299975e+06\n",
       "2016-07-01    9.500605e+06\n",
       "2016-10-01    9.701235e+06\n",
       "2017-01-01    9.901865e+06\n",
       "2017-04-01    1.010249e+07\n",
       "2017-07-01    1.030312e+07\n",
       "2017-10-01    1.050375e+07\n",
       "2018-01-01    1.070438e+07\n",
       "2018-04-01    1.090501e+07\n",
       "2018-07-01    1.110564e+07\n",
       "2018-10-01    1.130627e+07\n",
       "2019-01-01    1.150690e+07\n",
       "2019-04-01    1.170753e+07\n",
       "2019-07-01    1.190816e+07\n",
       "2019-10-01    1.210879e+07\n",
       "2020-01-01    1.230942e+07\n",
       "2020-04-01    1.251005e+07\n",
       "2020-07-01    1.271068e+07\n",
       "2020-10-01    1.291131e+07\n",
       "2021-01-01    1.311194e+07\n",
       "2021-04-01    1.331257e+07\n",
       "2021-07-01    1.351320e+07\n",
       "2021-10-01    1.371383e+07\n",
       "2022-01-01    1.391446e+07\n",
       "2022-04-01    1.411509e+07\n",
       "2022-07-01    1.431572e+07\n",
       "2022-10-01    1.451635e+07\n",
       "2023-01-01    1.471698e+07\n",
       "2023-04-01    1.491761e+07\n",
       "dtype: float64"
      ]
     },
     "execution_count": 236,
     "metadata": {},
     "output_type": "execute_result"
    }
   ],
   "source": [
    "training = df.iloc[:-30,:]\n",
    "test = df.iloc[-30:,:]\n",
    "model =auto_arima(y = training.SF, m = 7)\n",
    "#prediccion\n",
    "predictions = pd.Series(model.predict(n_periods = len(test)))\n",
    "predictions.index = test.index\n",
    "predictions"
   ]
  },
  {
   "cell_type": "code",
   "execution_count": 233,
   "metadata": {},
   "outputs": [
    {
     "data": {
      "text/plain": [
       "<Axes: xlabel='Fecha'>"
      ]
     },
     "execution_count": 233,
     "metadata": {},
     "output_type": "execute_result"
    },
    {
     "data": {
      "image/png": "[encoded data removed]",
      "text/plain": [
       "<Figure size 1200x900 with 1 Axes>"
      ]
     },
     "metadata": {},
     "output_type": "display_data"
    }
   ],
   "source": [
    "# visualization\n",
    "training['SF'].plot(figsize=(12,9), legend=True)\n",
    "test['SF'].plot( legend=True)\n",
    "predictions.plot(legend=True)"
   ]
  },
  {
   "cell_type": "markdown",
   "metadata": {},
   "source": [
    "## PRONOSTICO DE JERARQUIA"
   ]
  },
  {
   "cell_type": "code",
   "execution_count": 234,
   "metadata": {},
   "outputs": [],
   "source": [
    "import numpy as np"
   ]
  },
  {
   "cell_type": "code",
   "execution_count": 235,
   "metadata": {},
   "outputs": [
    {
     "ename": "ValueError",
     "evalue": "shapes (14,14) and (30,) not aligned: 14 (dim 1) != 30 (dim 0)",
     "output_type": "error",
     "traceback": [
      "\u001b[1;31m---------------------------------------------------------------------------\u001b[0m",
      "\u001b[1;31mValueError\u001b[0m                                Traceback (most recent call last)",
      "\u001b[1;32mc:\\Users\\juanj\\Workspace\\business_Intelligence\\PRONOSTICO-JERARQUICO\\Pred-financiamiento-sec-priv.ipynb Celda 16\u001b[0m line \u001b[0;36m2\n\u001b[0;32m     <a href='vscode-notebook-cell:/c%3A/Users/juanj/Workspace/business_Intelligence/PRONOSTICO-JERARQUICO/Pred-financiamiento-sec-priv.ipynb#X22sZmlsZQ%3D%3D?line=20'>21</a>\u001b[0m S3 \u001b[39m=\u001b[39m np\u001b[39m.\u001b[39mdot(S2,S\u001b[39m.\u001b[39mT)\n\u001b[0;32m     <a href='vscode-notebook-cell:/c%3A/Users/juanj/Workspace/business_Intelligence/PRONOSTICO-JERARQUICO/Pred-financiamiento-sec-priv.ipynb#X22sZmlsZQ%3D%3D?line=23'>24</a>\u001b[0m Y \u001b[39m=\u001b[39m np\u001b[39m.\u001b[39marray(predictions)\n\u001b[1;32m---> <a href='vscode-notebook-cell:/c%3A/Users/juanj/Workspace/business_Intelligence/PRONOSTICO-JERARQUICO/Pred-financiamiento-sec-priv.ipynb#X22sZmlsZQ%3D%3D?line=24'>25</a>\u001b[0m Yn \u001b[39m=\u001b[39m np\u001b[39m.\u001b[39;49mdot(S3,Y)\n\u001b[0;32m     <a href='vscode-notebook-cell:/c%3A/Users/juanj/Workspace/business_Intelligence/PRONOSTICO-JERARQUICO/Pred-financiamiento-sec-priv.ipynb#X22sZmlsZQ%3D%3D?line=25'>26</a>\u001b[0m Yn\n",
      "File \u001b[1;32m<__array_function__ internals>:200\u001b[0m, in \u001b[0;36mdot\u001b[1;34m(*args, **kwargs)\u001b[0m\n",
      "\u001b[1;31mValueError\u001b[0m: shapes (14,14) and (30,) not aligned: 14 (dim 1) != 30 (dim 0)"
     ]
    }
   ],
   "source": [
    "# generando matrix S 10 x 14\n",
    "\n",
    "S =  np.array([\n",
    "    [1, 1, 1, 1, 1, 1, 1, 1, 1, 1],\n",
    "    [1, 1, 1, 0, 0, 0, 0, 0, 0, 0],\n",
    "    [0, 0, 0, 1, 1, 1, 0, 0, 0, 0],\n",
    "    [0, 0, 0, 0, 0, 0, 1, 1, 1, 1],\n",
    "    [1, 0, 0, 0, 0, 0, 0, 0, 0, 0],\n",
    "    [0, 1, 0, 0, 0, 0, 0, 0, 0 ,0],\n",
    "    [0 ,0 ,1 ,0 ,0 ,0 ,0 ,0 ,0 ,0],\n",
    "    [0 ,0 ,0 ,1 ,0 ,0 ,0 ,0 ,0 ,0],\n",
    "    [0 ,0 ,0 ,0 ,1 ,0 ,0 ,0 ,0 ,0],\n",
    "    [0 ,0 ,0 ,0 ,0 ,1 ,0 ,0 ,0 ,0],\n",
    "    [0 ,0 ,0 ,0 ,0 ,0 ,1 ,0 ,0 ,0],\n",
    "    [0 ,0 ,0 ,0 ,0 ,0 ,0 ,1 ,0 ,0],\n",
    "    [0 ,0 ,0 ,0 ,0 ,0 ,0 ,0 ,1 ,0],\n",
    "    [0 ,0 ,0 ,0 ,0 ,0 ,0 ,0 ,0 ,1],\n",
    "])\n",
    "S1 = np.linalg.inv(np.dot(S.T,S))\n",
    "S2 = np.dot(S,S1)\n",
    "S3 = np.dot(S2,S.T)\n",
    "\n",
    "\n",
    "Y = np.array(predictions)\n",
    "Yn = np.dot(S3,Y)\n",
    "Yn\n"
   ]
  },
  {
   "cell_type": "code",
   "execution_count": null,
   "metadata": {},
   "outputs": [
    {
     "name": "stdout",
     "output_type": "stream",
     "text": [
      "[[ 0.6969697   0.22727273  0.22727273  0.24242424  0.07575758  0.07575758\n",
      "   0.07575758  0.07575758  0.07575758  0.07575758  0.06060606  0.06060606\n",
      "   0.06060606  0.06060606]\n",
      " [ 0.22727273  0.57954545 -0.17045455 -0.18181818  0.19318182  0.19318182\n",
      "   0.19318182 -0.05681818 -0.05681818 -0.05681818 -0.04545455 -0.04545455\n",
      "  -0.04545455 -0.04545455]\n",
      " [ 0.22727273 -0.17045455  0.57954545 -0.18181818 -0.05681818 -0.05681818\n",
      "  -0.05681818  0.19318182  0.19318182  0.19318182 -0.04545455 -0.04545455\n",
      "  -0.04545455 -0.04545455]\n",
      " [ 0.24242424 -0.18181818 -0.18181818  0.60606061 -0.06060606 -0.06060606\n",
      "  -0.06060606 -0.06060606 -0.06060606 -0.06060606  0.15151515  0.15151515\n",
      "   0.15151515  0.15151515]\n",
      " [ 0.07575758  0.19318182 -0.05681818 -0.06060606  0.73106061 -0.26893939\n",
      "  -0.26893939 -0.01893939 -0.01893939 -0.01893939 -0.01515152 -0.01515152\n",
      "  -0.01515152 -0.01515152]\n",
      " [ 0.07575758  0.19318182 -0.05681818 -0.06060606 -0.26893939  0.73106061\n",
      "  -0.26893939 -0.01893939 -0.01893939 -0.01893939 -0.01515152 -0.01515152\n",
      "  -0.01515152 -0.01515152]\n",
      " [ 0.07575758  0.19318182 -0.05681818 -0.06060606 -0.26893939 -0.26893939\n",
      "   0.73106061 -0.01893939 -0.01893939 -0.01893939 -0.01515152 -0.01515152\n",
      "  -0.01515152 -0.01515152]\n",
      " [ 0.07575758 -0.05681818  0.19318182 -0.06060606 -0.01893939 -0.01893939\n",
      "  -0.01893939  0.73106061 -0.26893939 -0.26893939 -0.01515152 -0.01515152\n",
      "  -0.01515152 -0.01515152]\n",
      " [ 0.07575758 -0.05681818  0.19318182 -0.06060606 -0.01893939 -0.01893939\n",
      "  -0.01893939 -0.26893939  0.73106061 -0.26893939 -0.01515152 -0.01515152\n",
      "  -0.01515152 -0.01515152]\n",
      " [ 0.07575758 -0.05681818  0.19318182 -0.06060606 -0.01893939 -0.01893939\n",
      "  -0.01893939 -0.26893939 -0.26893939  0.73106061 -0.01515152 -0.01515152\n",
      "  -0.01515152 -0.01515152]\n",
      " [ 0.06060606 -0.04545455 -0.04545455  0.15151515 -0.01515152 -0.01515152\n",
      "  -0.01515152 -0.01515152 -0.01515152 -0.01515152  0.78787879 -0.21212121\n",
      "  -0.21212121 -0.21212121]\n",
      " [ 0.06060606 -0.04545455 -0.04545455  0.15151515 -0.01515152 -0.01515152\n",
      "  -0.01515152 -0.01515152 -0.01515152 -0.01515152 -0.21212121  0.78787879\n",
      "  -0.21212121 -0.21212121]\n",
      " [ 0.06060606 -0.04545455 -0.04545455  0.15151515 -0.01515152 -0.01515152\n",
      "  -0.01515152 -0.01515152 -0.01515152 -0.01515152 -0.21212121 -0.21212121\n",
      "   0.78787879 -0.21212121]\n",
      " [ 0.06060606 -0.04545455 -0.04545455  0.15151515 -0.01515152 -0.01515152\n",
      "  -0.01515152 -0.01515152 -0.01515152 -0.01515152 -0.21212121 -0.21212121\n",
      "  -0.21212121  0.78787879]]\n"
     ]
    }
   ],
   "source": [
    "print(S3)\n"
   ]
  },
  {
   "cell_type": "code",
   "execution_count": null,
   "metadata": {},
   "outputs": [],
   "source": [
    "df2 = pd.read_csv(\"C:/Users/juanj/Workspace/business_Intelligence/PRONOSTICO-JERARQUICO/FSPATC.csv\",\n",
    "            skiprows=8)\n",
    "fecha = df2['Fecha']\n",
    "fff=fecha[-14:]\n",
    "fff = pd.DataFrame(fff)\n",
    "fff = fff['Fecha'].tail(14)\n",
    "fff.reset_index(drop=True, inplace=True)\n",
    "fff= pd.DataFrame(fff)"
   ]
  },
  {
   "cell_type": "code",
   "execution_count": null,
   "metadata": {},
   "outputs": [
    {
     "data": {
      "text/html": [
       "<div>\n",
       "<style scoped>\n",
       "    .dataframe tbody tr th:only-of-type {\n",
       "        vertical-align: middle;\n",
       "    }\n",
       "\n",
       "    .dataframe tbody tr th {\n",
       "        vertical-align: top;\n",
       "    }\n",
       "\n",
       "    .dataframe thead th {\n",
       "        text-align: right;\n",
       "    }\n",
       "</style>\n",
       "<table border=\"1\" class=\"dataframe\">\n",
       "  <thead>\n",
       "    <tr style=\"text-align: right;\">\n",
       "      <th></th>\n",
       "      <th>0</th>\n",
       "      <th>fecha</th>\n",
       "    </tr>\n",
       "  </thead>\n",
       "  <tbody>\n",
       "    <tr>\n",
       "      <th>0</th>\n",
       "      <td>2.886462e+07</td>\n",
       "      <td>1/1/2020</td>\n",
       "    </tr>\n",
       "    <tr>\n",
       "      <th>1</th>\n",
       "      <td>8.704410e+06</td>\n",
       "      <td>4/1/2020</td>\n",
       "    </tr>\n",
       "    <tr>\n",
       "      <th>2</th>\n",
       "      <td>9.369032e+06</td>\n",
       "      <td>7/1/2020</td>\n",
       "    </tr>\n",
       "    <tr>\n",
       "      <th>3</th>\n",
       "      <td>1.079118e+07</td>\n",
       "      <td>10/1/2020</td>\n",
       "    </tr>\n",
       "    <tr>\n",
       "      <th>4</th>\n",
       "      <td>2.679929e+06</td>\n",
       "      <td>1/1/2021</td>\n",
       "    </tr>\n",
       "    <tr>\n",
       "      <th>5</th>\n",
       "      <td>2.901470e+06</td>\n",
       "      <td>4/1/2021</td>\n",
       "    </tr>\n",
       "    <tr>\n",
       "      <th>6</th>\n",
       "      <td>3.123011e+06</td>\n",
       "      <td>7/1/2021</td>\n",
       "    </tr>\n",
       "    <tr>\n",
       "      <th>7</th>\n",
       "      <td>2.901470e+06</td>\n",
       "      <td>10/1/2021</td>\n",
       "    </tr>\n",
       "    <tr>\n",
       "      <th>8</th>\n",
       "      <td>3.123011e+06</td>\n",
       "      <td>1/1/2022</td>\n",
       "    </tr>\n",
       "    <tr>\n",
       "      <th>9</th>\n",
       "      <td>3.344551e+06</td>\n",
       "      <td>4/1/2022</td>\n",
       "    </tr>\n",
       "    <tr>\n",
       "      <th>10</th>\n",
       "      <td>2.365484e+06</td>\n",
       "      <td>7/1/2022</td>\n",
       "    </tr>\n",
       "    <tr>\n",
       "      <th>11</th>\n",
       "      <td>2.587025e+06</td>\n",
       "      <td>10/1/2022</td>\n",
       "    </tr>\n",
       "    <tr>\n",
       "      <th>12</th>\n",
       "      <td>2.808566e+06</td>\n",
       "      <td>1/1/2023</td>\n",
       "    </tr>\n",
       "    <tr>\n",
       "      <th>13</th>\n",
       "      <td>3.030106e+06</td>\n",
       "      <td>4/1/2023</td>\n",
       "    </tr>\n",
       "  </tbody>\n",
       "</table>\n",
       "</div>"
      ],
      "text/plain": [
       "               0      fecha\n",
       "0   2.886462e+07   1/1/2020\n",
       "1   8.704410e+06   4/1/2020\n",
       "2   9.369032e+06   7/1/2020\n",
       "3   1.079118e+07  10/1/2020\n",
       "4   2.679929e+06   1/1/2021\n",
       "5   2.901470e+06   4/1/2021\n",
       "6   3.123011e+06   7/1/2021\n",
       "7   2.901470e+06  10/1/2021\n",
       "8   3.123011e+06   1/1/2022\n",
       "9   3.344551e+06   4/1/2022\n",
       "10  2.365484e+06   7/1/2022\n",
       "11  2.587025e+06  10/1/2022\n",
       "12  2.808566e+06   1/1/2023\n",
       "13  3.030106e+06   4/1/2023"
      ]
     },
     "execution_count": 212,
     "metadata": {},
     "output_type": "execute_result"
    }
   ],
   "source": [
    "NYn = pd.DataFrame(Yn)\n",
    "NYn['fecha'] = fff['Fecha']\n",
    "NYn"
   ]
  },
  {
   "cell_type": "code",
   "execution_count": null,
   "metadata": {},
   "outputs": [
    {
     "data": {
      "text/html": [
       "<div>\n",
       "<style scoped>\n",
       "    .dataframe tbody tr th:only-of-type {\n",
       "        vertical-align: middle;\n",
       "    }\n",
       "\n",
       "    .dataframe tbody tr th {\n",
       "        vertical-align: top;\n",
       "    }\n",
       "\n",
       "    .dataframe thead th {\n",
       "        text-align: right;\n",
       "    }\n",
       "</style>\n",
       "<table border=\"1\" class=\"dataframe\">\n",
       "  <thead>\n",
       "    <tr style=\"text-align: right;\">\n",
       "      <th></th>\n",
       "      <th>0</th>\n",
       "    </tr>\n",
       "    <tr>\n",
       "      <th>fecha</th>\n",
       "      <th></th>\n",
       "    </tr>\n",
       "  </thead>\n",
       "  <tbody>\n",
       "    <tr>\n",
       "      <th>1/1/2020</th>\n",
       "      <td>2.886462e+07</td>\n",
       "    </tr>\n",
       "    <tr>\n",
       "      <th>4/1/2020</th>\n",
       "      <td>8.704410e+06</td>\n",
       "    </tr>\n",
       "    <tr>\n",
       "      <th>7/1/2020</th>\n",
       "      <td>9.369032e+06</td>\n",
       "    </tr>\n",
       "    <tr>\n",
       "      <th>10/1/2020</th>\n",
       "      <td>1.079118e+07</td>\n",
       "    </tr>\n",
       "    <tr>\n",
       "      <th>1/1/2021</th>\n",
       "      <td>2.679929e+06</td>\n",
       "    </tr>\n",
       "    <tr>\n",
       "      <th>4/1/2021</th>\n",
       "      <td>2.901470e+06</td>\n",
       "    </tr>\n",
       "    <tr>\n",
       "      <th>7/1/2021</th>\n",
       "      <td>3.123011e+06</td>\n",
       "    </tr>\n",
       "    <tr>\n",
       "      <th>10/1/2021</th>\n",
       "      <td>2.901470e+06</td>\n",
       "    </tr>\n",
       "    <tr>\n",
       "      <th>1/1/2022</th>\n",
       "      <td>3.123011e+06</td>\n",
       "    </tr>\n",
       "    <tr>\n",
       "      <th>4/1/2022</th>\n",
       "      <td>3.344551e+06</td>\n",
       "    </tr>\n",
       "    <tr>\n",
       "      <th>7/1/2022</th>\n",
       "      <td>2.365484e+06</td>\n",
       "    </tr>\n",
       "    <tr>\n",
       "      <th>10/1/2022</th>\n",
       "      <td>2.587025e+06</td>\n",
       "    </tr>\n",
       "    <tr>\n",
       "      <th>1/1/2023</th>\n",
       "      <td>2.808566e+06</td>\n",
       "    </tr>\n",
       "    <tr>\n",
       "      <th>4/1/2023</th>\n",
       "      <td>3.030106e+06</td>\n",
       "    </tr>\n",
       "  </tbody>\n",
       "</table>\n",
       "</div>"
      ],
      "text/plain": [
       "                      0\n",
       "fecha                  \n",
       "1/1/2020   2.886462e+07\n",
       "4/1/2020   8.704410e+06\n",
       "7/1/2020   9.369032e+06\n",
       "10/1/2020  1.079118e+07\n",
       "1/1/2021   2.679929e+06\n",
       "4/1/2021   2.901470e+06\n",
       "7/1/2021   3.123011e+06\n",
       "10/1/2021  2.901470e+06\n",
       "1/1/2022   3.123011e+06\n",
       "4/1/2022   3.344551e+06\n",
       "7/1/2022   2.365484e+06\n",
       "10/1/2022  2.587025e+06\n",
       "1/1/2023   2.808566e+06\n",
       "4/1/2023   3.030106e+06"
      ]
     },
     "execution_count": 213,
     "metadata": {},
     "output_type": "execute_result"
    }
   ],
   "source": [
    "NYn.set_index('fecha', inplace=True)\n",
    "NYn"
   ]
  },
  {
   "cell_type": "code",
   "execution_count": null,
   "metadata": {},
   "outputs": [
    {
     "data": {
      "text/plain": [
       "<Axes: xlabel='fecha'>"
      ]
     },
     "execution_count": 216,
     "metadata": {},
     "output_type": "execute_result"
    },
    {
     "data": {
      "image/png": "[encoded data removed]",
      "text/plain": [
       "<Figure size 1200x900 with 1 Axes>"
      ]
     },
     "metadata": {},
     "output_type": "display_data"
    },
    {
     "data": {
      "image/png": "[encoded data removed]",
      "text/plain": [
       "<Figure size 640x480 with 1 Axes>"
      ]
     },
     "metadata": {},
     "output_type": "display_data"
    }
   ],
   "source": [
    "# visualization\n",
    "training['SF'].plot(figsize=(12,9), legend=True)\n",
    "test['SF'].plot( legend=True)\n",
    "NYn.plot(legend=True)"
   ]
  }
 ],
 "metadata": {
  "kernelspec": {
   "display_name": "Python 3",
   "language": "python",
   "name": "python3"
  },
  "language_info": {
   "codemirror_mode": {
    "name": "ipython",
    "version": 3
   },
   "file_extension": ".py",
   "mimetype": "text/x-python",
   "name": "python",
   "nbconvert_exporter": "python",
   "pygments_lexer": "ipython3",
   "version": "3.10.10"
  }
 },
 "nbformat": 4,
 "nbformat_minor": 2
}
