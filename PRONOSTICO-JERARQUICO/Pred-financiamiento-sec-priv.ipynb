{
 "cells": [
  {
   "cell_type": "markdown",
   "metadata": {},
   "source": [
    "# Prediccion de financiamiento del sector privado en México - SARIMA"
   ]
  },
  {
   "cell_type": "markdown",
   "metadata": {},
   "source": [
    "## Librerias"
   ]
  },
  {
   "cell_type": "code",
   "execution_count": 60,
   "metadata": {},
   "outputs": [],
   "source": [
    "#pip install pmdarima"
   ]
  },
  {
   "cell_type": "code",
   "execution_count": 61,
   "metadata": {},
   "outputs": [],
   "source": [
    "import pandas as pd\n",
    "from pmdarima import auto_arima"
   ]
  },
  {
   "cell_type": "markdown",
   "metadata": {},
   "source": [
    "## Data"
   ]
  },
  {
   "cell_type": "code",
   "execution_count": 62,
   "metadata": {},
   "outputs": [
    {
     "data": {
      "text/html": [
       "<div>\n",
       "<style scoped>\n",
       "    .dataframe tbody tr th:only-of-type {\n",
       "        vertical-align: middle;\n",
       "    }\n",
       "\n",
       "    .dataframe tbody tr th {\n",
       "        vertical-align: top;\n",
       "    }\n",
       "\n",
       "    .dataframe thead th {\n",
       "        text-align: right;\n",
       "    }\n",
       "</style>\n",
       "<table border=\"1\" class=\"dataframe\">\n",
       "  <thead>\n",
       "    <tr style=\"text-align: right;\">\n",
       "      <th></th>\n",
       "      <th>SF17926</th>\n",
       "      <th>SF17927</th>\n",
       "      <th>SF46380</th>\n",
       "      <th>SF46381</th>\n",
       "      <th>SF17929</th>\n",
       "      <th>SF17930</th>\n",
       "      <th>SF46382</th>\n",
       "      <th>SF46383</th>\n",
       "      <th>SF17932</th>\n",
       "      <th>SF17933</th>\n",
       "      <th>SF46384</th>\n",
       "      <th>SF46385</th>\n",
       "      <th>SF46386</th>\n",
       "      <th>SF</th>\n",
       "    </tr>\n",
       "    <tr>\n",
       "      <th>Fecha</th>\n",
       "      <th></th>\n",
       "      <th></th>\n",
       "      <th></th>\n",
       "      <th></th>\n",
       "      <th></th>\n",
       "      <th></th>\n",
       "      <th></th>\n",
       "      <th></th>\n",
       "      <th></th>\n",
       "      <th></th>\n",
       "      <th></th>\n",
       "      <th></th>\n",
       "      <th></th>\n",
       "      <th></th>\n",
       "    </tr>\n",
       "  </thead>\n",
       "  <tbody>\n",
       "    <tr>\n",
       "      <th>1996-10-01</th>\n",
       "      <td>41828.0</td>\n",
       "      <td>36373.4</td>\n",
       "      <td>1407.3</td>\n",
       "      <td>4047.3</td>\n",
       "      <td>304706.2</td>\n",
       "      <td>215689.6</td>\n",
       "      <td>1357.9</td>\n",
       "      <td>87658.8</td>\n",
       "      <td>1103253.3</td>\n",
       "      <td>589846.8</td>\n",
       "      <td>53123.8</td>\n",
       "      <td>193070.2</td>\n",
       "      <td>267212.5</td>\n",
       "      <td>1449787.5</td>\n",
       "    </tr>\n",
       "    <tr>\n",
       "      <th>1997-01-01</th>\n",
       "      <td>41515.9</td>\n",
       "      <td>33522.7</td>\n",
       "      <td>2852.6</td>\n",
       "      <td>5140.6</td>\n",
       "      <td>329182.3</td>\n",
       "      <td>237084.6</td>\n",
       "      <td>2731.9</td>\n",
       "      <td>89365.9</td>\n",
       "      <td>1119695.0</td>\n",
       "      <td>617126.9</td>\n",
       "      <td>36780.0</td>\n",
       "      <td>185345.2</td>\n",
       "      <td>280442.8</td>\n",
       "      <td>1490393.2</td>\n",
       "    </tr>\n",
       "    <tr>\n",
       "      <th>1997-04-01</th>\n",
       "      <td>41405.0</td>\n",
       "      <td>33111.0</td>\n",
       "      <td>3235.2</td>\n",
       "      <td>5058.8</td>\n",
       "      <td>337529.2</td>\n",
       "      <td>241438.8</td>\n",
       "      <td>3514.2</td>\n",
       "      <td>92576.2</td>\n",
       "      <td>1161120.6</td>\n",
       "      <td>615381.3</td>\n",
       "      <td>36939.7</td>\n",
       "      <td>203997.2</td>\n",
       "      <td>304802.5</td>\n",
       "      <td>1540054.8</td>\n",
       "    </tr>\n",
       "    <tr>\n",
       "      <th>1997-07-01</th>\n",
       "      <td>43660.9</td>\n",
       "      <td>34972.5</td>\n",
       "      <td>3773.4</td>\n",
       "      <td>4915.0</td>\n",
       "      <td>338939.1</td>\n",
       "      <td>240081.8</td>\n",
       "      <td>4538.9</td>\n",
       "      <td>94318.4</td>\n",
       "      <td>1118490.1</td>\n",
       "      <td>592079.0</td>\n",
       "      <td>35841.7</td>\n",
       "      <td>185087.5</td>\n",
       "      <td>305481.7</td>\n",
       "      <td>1501090.1</td>\n",
       "    </tr>\n",
       "    <tr>\n",
       "      <th>1997-10-01</th>\n",
       "      <td>46330.2</td>\n",
       "      <td>35470.2</td>\n",
       "      <td>4567.3</td>\n",
       "      <td>6292.7</td>\n",
       "      <td>343624.6</td>\n",
       "      <td>240742.9</td>\n",
       "      <td>5607.1</td>\n",
       "      <td>97274.6</td>\n",
       "      <td>1175248.7</td>\n",
       "      <td>608626.9</td>\n",
       "      <td>39324.0</td>\n",
       "      <td>210084.2</td>\n",
       "      <td>317213.5</td>\n",
       "      <td>1565203.5</td>\n",
       "    </tr>\n",
       "  </tbody>\n",
       "</table>\n",
       "</div>"
      ],
      "text/plain": [
       "            SF17926  SF17927  SF46380  SF46381   SF17929   SF17930  SF46382  \\\n",
       "Fecha                                                                         \n",
       "1996-10-01  41828.0  36373.4   1407.3   4047.3  304706.2  215689.6   1357.9   \n",
       "1997-01-01  41515.9  33522.7   2852.6   5140.6  329182.3  237084.6   2731.9   \n",
       "1997-04-01  41405.0  33111.0   3235.2   5058.8  337529.2  241438.8   3514.2   \n",
       "1997-07-01  43660.9  34972.5   3773.4   4915.0  338939.1  240081.8   4538.9   \n",
       "1997-10-01  46330.2  35470.2   4567.3   6292.7  343624.6  240742.9   5607.1   \n",
       "\n",
       "            SF46383    SF17932   SF17933  SF46384   SF46385   SF46386  \\\n",
       "Fecha                                                                   \n",
       "1996-10-01  87658.8  1103253.3  589846.8  53123.8  193070.2  267212.5   \n",
       "1997-01-01  89365.9  1119695.0  617126.9  36780.0  185345.2  280442.8   \n",
       "1997-04-01  92576.2  1161120.6  615381.3  36939.7  203997.2  304802.5   \n",
       "1997-07-01  94318.4  1118490.1  592079.0  35841.7  185087.5  305481.7   \n",
       "1997-10-01  97274.6  1175248.7  608626.9  39324.0  210084.2  317213.5   \n",
       "\n",
       "                   SF  \n",
       "Fecha                  \n",
       "1996-10-01  1449787.5  \n",
       "1997-01-01  1490393.2  \n",
       "1997-04-01  1540054.8  \n",
       "1997-07-01  1501090.1  \n",
       "1997-10-01  1565203.5  "
      ]
     },
     "execution_count": 62,
     "metadata": {},
     "output_type": "execute_result"
    }
   ],
   "source": [
    "df = pd.read_csv(\"C:/Users/juanj/Workspace/business_Intelligence/PRONOSTICO-JERARQUICO/FSPATC.csv\",\n",
    "            index_col=\"Fecha\",\n",
    "            parse_dates=True,\n",
    "            skiprows=8)\n",
    "df.head()"
   ]
  },
  {
   "cell_type": "code",
   "execution_count": 63,
   "metadata": {},
   "outputs": [
    {
     "name": "stdout",
     "output_type": "stream",
     "text": [
      "<class 'pandas.core.frame.DataFrame'>\n",
      "DatetimeIndex: 107 entries, 1996-10-01 to 2023-04-01\n",
      "Data columns (total 14 columns):\n",
      " #   Column   Non-Null Count  Dtype  \n",
      "---  ------   --------------  -----  \n",
      " 0   SF17926  107 non-null    float64\n",
      " 1   SF17927  107 non-null    float64\n",
      " 2   SF46380  107 non-null    float64\n",
      " 3   SF46381  107 non-null    float64\n",
      " 4   SF17929  107 non-null    float64\n",
      " 5   SF17930  107 non-null    float64\n",
      " 6   SF46382  107 non-null    float64\n",
      " 7   SF46383  107 non-null    float64\n",
      " 8   SF17932  107 non-null    float64\n",
      " 9   SF17933  107 non-null    float64\n",
      " 10  SF46384  107 non-null    float64\n",
      " 11  SF46385  107 non-null    float64\n",
      " 12  SF46386  107 non-null    float64\n",
      " 13  SF       107 non-null    float64\n",
      "dtypes: float64(14)\n",
      "memory usage: 12.5 KB\n"
     ]
    }
   ],
   "source": [
    "df.info()"
   ]
  },
  {
   "cell_type": "markdown",
   "metadata": {},
   "source": [
    "## Entrenamiento"
   ]
  },
  {
   "cell_type": "code",
   "execution_count": 64,
   "metadata": {},
   "outputs": [],
   "source": [
    "#training = df.iloc[:-14,:]\n",
    "#test = df.iloc[-30:,:]"
   ]
  },
  {
   "cell_type": "markdown",
   "metadata": {},
   "source": [
    "## Modelo SARIMA"
   ]
  },
  {
   "cell_type": "code",
   "execution_count": 65,
   "metadata": {},
   "outputs": [],
   "source": [
    "#model =auto_arima(y = training.SF,seasonal=True, m = 12)"
   ]
  },
  {
   "cell_type": "code",
   "execution_count": 66,
   "metadata": {},
   "outputs": [],
   "source": [
    "training = df.iloc[:-14,:]\n",
    "test = df.iloc[-14:,:]\n",
    "model =auto_arima(y = training.SF,seasonal=True, m = 12)\n",
    "#prediccion\n",
    "predictions = pd.Series(model.predict(n_periods = len(test)))\n",
    "predictions.index = test.index"
   ]
  },
  {
   "cell_type": "code",
   "execution_count": 67,
   "metadata": {},
   "outputs": [
    {
     "name": "stdout",
     "output_type": "stream",
     "text": [
      "Fecha\n",
      "2020-01-01    1.298950e+07\n",
      "2020-04-01    1.317823e+07\n",
      "2020-07-01    1.341512e+07\n",
      "2020-10-01    1.367973e+07\n",
      "2021-01-01    1.383087e+07\n",
      "2021-04-01    1.409392e+07\n",
      "2021-07-01    1.425397e+07\n",
      "2021-10-01    1.448920e+07\n",
      "2022-01-01    1.478510e+07\n",
      "2022-04-01    1.499490e+07\n",
      "2022-07-01    1.517457e+07\n",
      "2022-10-01    1.537402e+07\n",
      "2023-01-01    1.558142e+07\n",
      "2023-04-01    1.579246e+07\n",
      "dtype: float64  ARIMA(0,2,1)(1,0,0)[12]          \n"
     ]
    }
   ],
   "source": [
    "print(predictions, model)"
   ]
  },
  {
   "cell_type": "code",
   "execution_count": 68,
   "metadata": {},
   "outputs": [
    {
     "data": {
      "text/html": [
       "<table class=\"simpletable\">\n",
       "<caption>SARIMAX Results</caption>\n",
       "<tr>\n",
       "  <th>Dep. Variable:</th>                  <td>y</td>                <th>  No. Observations:  </th>    <td>93</td>    \n",
       "</tr>\n",
       "<tr>\n",
       "  <th>Model:</th>           <td>SARIMAX(0, 2, 1)x(1, 0, [], 12)</td> <th>  Log Likelihood     </th> <td>-1235.347</td>\n",
       "</tr>\n",
       "<tr>\n",
       "  <th>Date:</th>                   <td>Thu, 02 Nov 2023</td>         <th>  AIC                </th> <td>2476.694</td> \n",
       "</tr>\n",
       "<tr>\n",
       "  <th>Time:</th>                       <td>14:42:51</td>             <th>  BIC                </th> <td>2484.227</td> \n",
       "</tr>\n",
       "<tr>\n",
       "  <th>Sample:</th>                    <td>10-01-1996</td>            <th>  HQIC               </th> <td>2479.733</td> \n",
       "</tr>\n",
       "<tr>\n",
       "  <th></th>                          <td>- 10-01-2019</td>           <th>                     </th>     <td> </td>    \n",
       "</tr>\n",
       "<tr>\n",
       "  <th>Covariance Type:</th>               <td>opg</td>               <th>                     </th>     <td> </td>    \n",
       "</tr>\n",
       "</table>\n",
       "<table class=\"simpletable\">\n",
       "<tr>\n",
       "      <td></td>        <th>coef</th>     <th>std err</th>      <th>z</th>      <th>P>|z|</th>  <th>[0.025</th>    <th>0.975]</th>  \n",
       "</tr>\n",
       "<tr>\n",
       "  <th>ma.L1</th>    <td>   -0.9091</td> <td>    0.052</td> <td>  -17.585</td> <td> 0.000</td> <td>   -1.010</td> <td>   -0.808</td>\n",
       "</tr>\n",
       "<tr>\n",
       "  <th>ar.S.L12</th> <td>    0.1469</td> <td>    0.087</td> <td>    1.695</td> <td> 0.090</td> <td>   -0.023</td> <td>    0.317</td>\n",
       "</tr>\n",
       "<tr>\n",
       "  <th>sigma2</th>   <td> 3.571e+10</td> <td> 3.15e-13</td> <td> 1.13e+23</td> <td> 0.000</td> <td> 3.57e+10</td> <td> 3.57e+10</td>\n",
       "</tr>\n",
       "</table>\n",
       "<table class=\"simpletable\">\n",
       "<tr>\n",
       "  <th>Ljung-Box (L1) (Q):</th>     <td>0.38</td> <th>  Jarque-Bera (JB):  </th> <td>0.73</td>\n",
       "</tr>\n",
       "<tr>\n",
       "  <th>Prob(Q):</th>                <td>0.54</td> <th>  Prob(JB):          </th> <td>0.69</td>\n",
       "</tr>\n",
       "<tr>\n",
       "  <th>Heteroskedasticity (H):</th> <td>2.35</td> <th>  Skew:              </th> <td>0.14</td>\n",
       "</tr>\n",
       "<tr>\n",
       "  <th>Prob(H) (two-sided):</th>    <td>0.02</td> <th>  Kurtosis:          </th> <td>3.35</td>\n",
       "</tr>\n",
       "</table><br/><br/>Warnings:<br/>[1] Covariance matrix calculated using the outer product of gradients (complex-step).<br/>[2] Covariance matrix is singular or near-singular, with condition number    inf. Standard errors may be unstable."
      ],
      "text/plain": [
       "<class 'statsmodels.iolib.summary.Summary'>\n",
       "\"\"\"\n",
       "                                      SARIMAX Results                                      \n",
       "===========================================================================================\n",
       "Dep. Variable:                                   y   No. Observations:                   93\n",
       "Model:             SARIMAX(0, 2, 1)x(1, 0, [], 12)   Log Likelihood               -1235.347\n",
       "Date:                             Thu, 02 Nov 2023   AIC                           2476.694\n",
       "Time:                                     14:42:51   BIC                           2484.227\n",
       "Sample:                                 10-01-1996   HQIC                          2479.733\n",
       "                                      - 10-01-2019                                         \n",
       "Covariance Type:                               opg                                         \n",
       "==============================================================================\n",
       "                 coef    std err          z      P>|z|      [0.025      0.975]\n",
       "------------------------------------------------------------------------------\n",
       "ma.L1         -0.9091      0.052    -17.585      0.000      -1.010      -0.808\n",
       "ar.S.L12       0.1469      0.087      1.695      0.090      -0.023       0.317\n",
       "sigma2      3.571e+10   3.15e-13   1.13e+23      0.000    3.57e+10    3.57e+10\n",
       "===================================================================================\n",
       "Ljung-Box (L1) (Q):                   0.38   Jarque-Bera (JB):                 0.73\n",
       "Prob(Q):                              0.54   Prob(JB):                         0.69\n",
       "Heteroskedasticity (H):               2.35   Skew:                             0.14\n",
       "Prob(H) (two-sided):                  0.02   Kurtosis:                         3.35\n",
       "===================================================================================\n",
       "\n",
       "Warnings:\n",
       "[1] Covariance matrix calculated using the outer product of gradients (complex-step).\n",
       "[2] Covariance matrix is singular or near-singular, with condition number    inf. Standard errors may be unstable.\n",
       "\"\"\""
      ]
     },
     "execution_count": 68,
     "metadata": {},
     "output_type": "execute_result"
    }
   ],
   "source": [
    "model.summary()"
   ]
  },
  {
   "cell_type": "code",
   "execution_count": 69,
   "metadata": {},
   "outputs": [
    {
     "data": {
      "text/plain": [
       "<Axes: xlabel='Fecha'>"
      ]
     },
     "execution_count": 69,
     "metadata": {},
     "output_type": "execute_result"
    },
    {
     "data": {
      "image/png": "[encoded data removed]",
      "text/plain": [
       "<Figure size 1200x900 with 1 Axes>"
      ]
     },
     "metadata": {},
     "output_type": "display_data"
    }
   ],
   "source": [
    "# visualization\n",
    "training['SF'].plot(figsize=(12,9), legend=True)\n",
    "test['SF'].plot( legend=True)\n",
    "predictions.plot(legend=True)"
   ]
  },
  {
   "cell_type": "markdown",
   "metadata": {},
   "source": [
    "## PRONOSTICO DE JERARQUIA"
   ]
  },
  {
   "cell_type": "code",
   "execution_count": 70,
   "metadata": {},
   "outputs": [],
   "source": [
    "import numpy as np"
   ]
  },
  {
   "cell_type": "code",
   "execution_count": 71,
   "metadata": {},
   "outputs": [
    {
     "data": {
      "text/plain": [
       "array([28715496.43172003,  8633868.04807952,  9334145.72863467,\n",
       "       10747482.65500582,  2649238.31848956,  2912292.97138796,\n",
       "        3072336.75820201,  2844183.459659  ,  3140081.53998819,\n",
       "        3349880.72898748,  2380824.75721163,  2580273.84892459,\n",
       "        2787672.43437326,  2998711.61449634])"
      ]
     },
     "execution_count": 71,
     "metadata": {},
     "output_type": "execute_result"
    }
   ],
   "source": [
    "# generando matrix S 10 x 14\n",
    "\n",
    "S =  np.array([\n",
    "    [1, 1, 1, 1, 1, 1, 1, 1, 1, 1],\n",
    "    [1, 1, 1, 0, 0, 0, 0, 0, 0, 0],\n",
    "    [0, 0, 0, 1, 1, 1, 0, 0, 0, 0],\n",
    "    [0, 0, 0, 0, 0, 0, 1, 1, 1, 1],\n",
    "    [1, 0, 0, 0, 0, 0, 0, 0, 0, 0],\n",
    "    [0, 1, 0, 0, 0, 0, 0, 0, 0 ,0],\n",
    "    [0 ,0 ,1 ,0 ,0 ,0 ,0 ,0 ,0 ,0],\n",
    "    [0 ,0 ,0 ,1 ,0 ,0 ,0 ,0 ,0 ,0],\n",
    "    [0 ,0 ,0 ,0 ,1 ,0 ,0 ,0 ,0 ,0],\n",
    "    [0 ,0 ,0 ,0 ,0 ,1 ,0 ,0 ,0 ,0],\n",
    "    [0 ,0 ,0 ,0 ,0 ,0 ,1 ,0 ,0 ,0],\n",
    "    [0 ,0 ,0 ,0 ,0 ,0 ,0 ,1 ,0 ,0],\n",
    "    [0 ,0 ,0 ,0 ,0 ,0 ,0 ,0 ,1 ,0],\n",
    "    [0 ,0 ,0 ,0 ,0 ,0 ,0 ,0 ,0 ,1],\n",
    "])\n",
    "S1 = np.linalg.inv(np.dot(S.T,S))\n",
    "S2 = np.dot(S,S1)\n",
    "S3 = np.dot(S2,S.T)\n",
    "\n",
    "# 30 primeras predicciones sarima\n",
    "Y = np.array(predictions)\n",
    "\n",
    "# multiplicacion de matriz de jerarquia y modelo sarima\n",
    "Yn = np.dot(S3,Y)\n",
    "Yn\n"
   ]
  },
  {
   "cell_type": "code",
   "execution_count": 72,
   "metadata": {},
   "outputs": [
    {
     "name": "stdout",
     "output_type": "stream",
     "text": [
      "[[ 0.6969697   0.22727273  0.22727273  0.24242424  0.07575758  0.07575758\n",
      "   0.07575758  0.07575758  0.07575758  0.07575758  0.06060606  0.06060606\n",
      "   0.06060606  0.06060606]\n",
      " [ 0.22727273  0.57954545 -0.17045455 -0.18181818  0.19318182  0.19318182\n",
      "   0.19318182 -0.05681818 -0.05681818 -0.05681818 -0.04545455 -0.04545455\n",
      "  -0.04545455 -0.04545455]\n",
      " [ 0.22727273 -0.17045455  0.57954545 -0.18181818 -0.05681818 -0.05681818\n",
      "  -0.05681818  0.19318182  0.19318182  0.19318182 -0.04545455 -0.04545455\n",
      "  -0.04545455 -0.04545455]\n",
      " [ 0.24242424 -0.18181818 -0.18181818  0.60606061 -0.06060606 -0.06060606\n",
      "  -0.06060606 -0.06060606 -0.06060606 -0.06060606  0.15151515  0.15151515\n",
      "   0.15151515  0.15151515]\n",
      " [ 0.07575758  0.19318182 -0.05681818 -0.06060606  0.73106061 -0.26893939\n",
      "  -0.26893939 -0.01893939 -0.01893939 -0.01893939 -0.01515152 -0.01515152\n",
      "  -0.01515152 -0.01515152]\n",
      " [ 0.07575758  0.19318182 -0.05681818 -0.06060606 -0.26893939  0.73106061\n",
      "  -0.26893939 -0.01893939 -0.01893939 -0.01893939 -0.01515152 -0.01515152\n",
      "  -0.01515152 -0.01515152]\n",
      " [ 0.07575758  0.19318182 -0.05681818 -0.06060606 -0.26893939 -0.26893939\n",
      "   0.73106061 -0.01893939 -0.01893939 -0.01893939 -0.01515152 -0.01515152\n",
      "  -0.01515152 -0.01515152]\n",
      " [ 0.07575758 -0.05681818  0.19318182 -0.06060606 -0.01893939 -0.01893939\n",
      "  -0.01893939  0.73106061 -0.26893939 -0.26893939 -0.01515152 -0.01515152\n",
      "  -0.01515152 -0.01515152]\n",
      " [ 0.07575758 -0.05681818  0.19318182 -0.06060606 -0.01893939 -0.01893939\n",
      "  -0.01893939 -0.26893939  0.73106061 -0.26893939 -0.01515152 -0.01515152\n",
      "  -0.01515152 -0.01515152]\n",
      " [ 0.07575758 -0.05681818  0.19318182 -0.06060606 -0.01893939 -0.01893939\n",
      "  -0.01893939 -0.26893939 -0.26893939  0.73106061 -0.01515152 -0.01515152\n",
      "  -0.01515152 -0.01515152]\n",
      " [ 0.06060606 -0.04545455 -0.04545455  0.15151515 -0.01515152 -0.01515152\n",
      "  -0.01515152 -0.01515152 -0.01515152 -0.01515152  0.78787879 -0.21212121\n",
      "  -0.21212121 -0.21212121]\n",
      " [ 0.06060606 -0.04545455 -0.04545455  0.15151515 -0.01515152 -0.01515152\n",
      "  -0.01515152 -0.01515152 -0.01515152 -0.01515152 -0.21212121  0.78787879\n",
      "  -0.21212121 -0.21212121]\n",
      " [ 0.06060606 -0.04545455 -0.04545455  0.15151515 -0.01515152 -0.01515152\n",
      "  -0.01515152 -0.01515152 -0.01515152 -0.01515152 -0.21212121 -0.21212121\n",
      "   0.78787879 -0.21212121]\n",
      " [ 0.06060606 -0.04545455 -0.04545455  0.15151515 -0.01515152 -0.01515152\n",
      "  -0.01515152 -0.01515152 -0.01515152 -0.01515152 -0.21212121 -0.21212121\n",
      "  -0.21212121  0.78787879]]\n"
     ]
    }
   ],
   "source": [
    "print(S3)\n"
   ]
  },
  {
   "cell_type": "code",
   "execution_count": 73,
   "metadata": {},
   "outputs": [],
   "source": [
    "df2 = pd.read_csv(\"C:/Users/juanj/Workspace/business_Intelligence/PRONOSTICO-JERARQUICO/FSPATC.csv\",\n",
    "            skiprows=8)\n",
    "fecha = df2['Fecha']\n",
    "fff=fecha[-14:]\n",
    "fff = pd.DataFrame(fff)\n",
    "fff = fff['Fecha'].tail(14)\n",
    "fff.reset_index(drop=True, inplace=True)\n",
    "fff= pd.DataFrame(fff)"
   ]
  },
  {
   "cell_type": "code",
   "execution_count": 74,
   "metadata": {},
   "outputs": [
    {
     "data": {
      "text/html": [
       "<div>\n",
       "<style scoped>\n",
       "    .dataframe tbody tr th:only-of-type {\n",
       "        vertical-align: middle;\n",
       "    }\n",
       "\n",
       "    .dataframe tbody tr th {\n",
       "        vertical-align: top;\n",
       "    }\n",
       "\n",
       "    .dataframe thead th {\n",
       "        text-align: right;\n",
       "    }\n",
       "</style>\n",
       "<table border=\"1\" class=\"dataframe\">\n",
       "  <thead>\n",
       "    <tr style=\"text-align: right;\">\n",
       "      <th></th>\n",
       "      <th>0</th>\n",
       "      <th>fecha</th>\n",
       "    </tr>\n",
       "  </thead>\n",
       "  <tbody>\n",
       "    <tr>\n",
       "      <th>0</th>\n",
       "      <td>2.871550e+07</td>\n",
       "      <td>1/1/2020</td>\n",
       "    </tr>\n",
       "    <tr>\n",
       "      <th>1</th>\n",
       "      <td>8.633868e+06</td>\n",
       "      <td>4/1/2020</td>\n",
       "    </tr>\n",
       "    <tr>\n",
       "      <th>2</th>\n",
       "      <td>9.334146e+06</td>\n",
       "      <td>7/1/2020</td>\n",
       "    </tr>\n",
       "    <tr>\n",
       "      <th>3</th>\n",
       "      <td>1.074748e+07</td>\n",
       "      <td>10/1/2020</td>\n",
       "    </tr>\n",
       "    <tr>\n",
       "      <th>4</th>\n",
       "      <td>2.649238e+06</td>\n",
       "      <td>1/1/2021</td>\n",
       "    </tr>\n",
       "    <tr>\n",
       "      <th>5</th>\n",
       "      <td>2.912293e+06</td>\n",
       "      <td>4/1/2021</td>\n",
       "    </tr>\n",
       "    <tr>\n",
       "      <th>6</th>\n",
       "      <td>3.072337e+06</td>\n",
       "      <td>7/1/2021</td>\n",
       "    </tr>\n",
       "    <tr>\n",
       "      <th>7</th>\n",
       "      <td>2.844183e+06</td>\n",
       "      <td>10/1/2021</td>\n",
       "    </tr>\n",
       "    <tr>\n",
       "      <th>8</th>\n",
       "      <td>3.140082e+06</td>\n",
       "      <td>1/1/2022</td>\n",
       "    </tr>\n",
       "    <tr>\n",
       "      <th>9</th>\n",
       "      <td>3.349881e+06</td>\n",
       "      <td>4/1/2022</td>\n",
       "    </tr>\n",
       "    <tr>\n",
       "      <th>10</th>\n",
       "      <td>2.380825e+06</td>\n",
       "      <td>7/1/2022</td>\n",
       "    </tr>\n",
       "    <tr>\n",
       "      <th>11</th>\n",
       "      <td>2.580274e+06</td>\n",
       "      <td>10/1/2022</td>\n",
       "    </tr>\n",
       "    <tr>\n",
       "      <th>12</th>\n",
       "      <td>2.787672e+06</td>\n",
       "      <td>1/1/2023</td>\n",
       "    </tr>\n",
       "    <tr>\n",
       "      <th>13</th>\n",
       "      <td>2.998712e+06</td>\n",
       "      <td>4/1/2023</td>\n",
       "    </tr>\n",
       "  </tbody>\n",
       "</table>\n",
       "</div>"
      ],
      "text/plain": [
       "               0      fecha\n",
       "0   2.871550e+07   1/1/2020\n",
       "1   8.633868e+06   4/1/2020\n",
       "2   9.334146e+06   7/1/2020\n",
       "3   1.074748e+07  10/1/2020\n",
       "4   2.649238e+06   1/1/2021\n",
       "5   2.912293e+06   4/1/2021\n",
       "6   3.072337e+06   7/1/2021\n",
       "7   2.844183e+06  10/1/2021\n",
       "8   3.140082e+06   1/1/2022\n",
       "9   3.349881e+06   4/1/2022\n",
       "10  2.380825e+06   7/1/2022\n",
       "11  2.580274e+06  10/1/2022\n",
       "12  2.787672e+06   1/1/2023\n",
       "13  2.998712e+06   4/1/2023"
      ]
     },
     "execution_count": 74,
     "metadata": {},
     "output_type": "execute_result"
    }
   ],
   "source": [
    "NYn = pd.DataFrame(Yn)\n",
    "NYn['fecha'] = fff['Fecha']\n",
    "NYn"
   ]
  },
  {
   "cell_type": "code",
   "execution_count": 75,
   "metadata": {},
   "outputs": [
    {
     "data": {
      "text/html": [
       "<div>\n",
       "<style scoped>\n",
       "    .dataframe tbody tr th:only-of-type {\n",
       "        vertical-align: middle;\n",
       "    }\n",
       "\n",
       "    .dataframe tbody tr th {\n",
       "        vertical-align: top;\n",
       "    }\n",
       "\n",
       "    .dataframe thead th {\n",
       "        text-align: right;\n",
       "    }\n",
       "</style>\n",
       "<table border=\"1\" class=\"dataframe\">\n",
       "  <thead>\n",
       "    <tr style=\"text-align: right;\">\n",
       "      <th></th>\n",
       "      <th>0</th>\n",
       "    </tr>\n",
       "    <tr>\n",
       "      <th>fecha</th>\n",
       "      <th></th>\n",
       "    </tr>\n",
       "  </thead>\n",
       "  <tbody>\n",
       "    <tr>\n",
       "      <th>1/1/2020</th>\n",
       "      <td>2.871550e+07</td>\n",
       "    </tr>\n",
       "    <tr>\n",
       "      <th>4/1/2020</th>\n",
       "      <td>8.633868e+06</td>\n",
       "    </tr>\n",
       "    <tr>\n",
       "      <th>7/1/2020</th>\n",
       "      <td>9.334146e+06</td>\n",
       "    </tr>\n",
       "    <tr>\n",
       "      <th>10/1/2020</th>\n",
       "      <td>1.074748e+07</td>\n",
       "    </tr>\n",
       "    <tr>\n",
       "      <th>1/1/2021</th>\n",
       "      <td>2.649238e+06</td>\n",
       "    </tr>\n",
       "    <tr>\n",
       "      <th>4/1/2021</th>\n",
       "      <td>2.912293e+06</td>\n",
       "    </tr>\n",
       "    <tr>\n",
       "      <th>7/1/2021</th>\n",
       "      <td>3.072337e+06</td>\n",
       "    </tr>\n",
       "    <tr>\n",
       "      <th>10/1/2021</th>\n",
       "      <td>2.844183e+06</td>\n",
       "    </tr>\n",
       "    <tr>\n",
       "      <th>1/1/2022</th>\n",
       "      <td>3.140082e+06</td>\n",
       "    </tr>\n",
       "    <tr>\n",
       "      <th>4/1/2022</th>\n",
       "      <td>3.349881e+06</td>\n",
       "    </tr>\n",
       "    <tr>\n",
       "      <th>7/1/2022</th>\n",
       "      <td>2.380825e+06</td>\n",
       "    </tr>\n",
       "    <tr>\n",
       "      <th>10/1/2022</th>\n",
       "      <td>2.580274e+06</td>\n",
       "    </tr>\n",
       "    <tr>\n",
       "      <th>1/1/2023</th>\n",
       "      <td>2.787672e+06</td>\n",
       "    </tr>\n",
       "    <tr>\n",
       "      <th>4/1/2023</th>\n",
       "      <td>2.998712e+06</td>\n",
       "    </tr>\n",
       "  </tbody>\n",
       "</table>\n",
       "</div>"
      ],
      "text/plain": [
       "                      0\n",
       "fecha                  \n",
       "1/1/2020   2.871550e+07\n",
       "4/1/2020   8.633868e+06\n",
       "7/1/2020   9.334146e+06\n",
       "10/1/2020  1.074748e+07\n",
       "1/1/2021   2.649238e+06\n",
       "4/1/2021   2.912293e+06\n",
       "7/1/2021   3.072337e+06\n",
       "10/1/2021  2.844183e+06\n",
       "1/1/2022   3.140082e+06\n",
       "4/1/2022   3.349881e+06\n",
       "7/1/2022   2.380825e+06\n",
       "10/1/2022  2.580274e+06\n",
       "1/1/2023   2.787672e+06\n",
       "4/1/2023   2.998712e+06"
      ]
     },
     "execution_count": 75,
     "metadata": {},
     "output_type": "execute_result"
    }
   ],
   "source": [
    "NYn.set_index('fecha', inplace=True)\n",
    "NYn"
   ]
  },
  {
   "cell_type": "code",
   "execution_count": 76,
   "metadata": {},
   "outputs": [
    {
     "data": {
      "text/plain": [
       "<Axes: xlabel='fecha'>"
      ]
     },
     "execution_count": 76,
     "metadata": {},
     "output_type": "execute_result"
    },
    {
     "data": {
      "image/png": "[encoded data removed]",
      "text/plain": [
       "<Figure size 1200x900 with 1 Axes>"
      ]
     },
     "metadata": {},
     "output_type": "display_data"
    },
    {
     "data": {
      "image/png": "[encoded data removed]",
      "text/plain": [
       "<Figure size 640x480 with 1 Axes>"
      ]
     },
     "metadata": {},
     "output_type": "display_data"
    }
   ],
   "source": [
    "# visualization\n",
    "training['SF'].plot(figsize=(12,9), legend=True)\n",
    "test['SF'].plot( legend=True)\n",
    "NYn.plot(legend=True)"
   ]
  },
  {
   "cell_type": "code",
   "execution_count": 5,
   "metadata": {},
   "outputs": [
    {
     "ename": "ValueError",
     "evalue": "Invalid file path or buffer object type: <class 'list'>",
     "output_type": "error",
     "traceback": [
      "\u001b[1;31m---------------------------------------------------------------------------\u001b[0m",
      "\u001b[1;31mValueError\u001b[0m                                Traceback (most recent call last)",
      "\u001b[1;32mc:\\Users\\juanj\\Workspace\\business_Intelligence\\PRONOSTICO-JERARQUICO\\Pred-financiamiento-sec-priv.ipynb Celda 24\u001b[0m line \u001b[0;36m3\n\u001b[0;32m     <a href='vscode-notebook-cell:/c%3A/Users/juanj/Workspace/business_Intelligence/PRONOSTICO-JERARQUICO/Pred-financiamiento-sec-priv.ipynb#X32sZmlsZQ%3D%3D?line=24'>25</a>\u001b[0m shutil\u001b[39m.\u001b[39mcopyfile(archivo_original, temp\u001b[39m.\u001b[39mname)\n\u001b[0;32m     <a href='vscode-notebook-cell:/c%3A/Users/juanj/Workspace/business_Intelligence/PRONOSTICO-JERARQUICO/Pred-financiamiento-sec-priv.ipynb#X32sZmlsZQ%3D%3D?line=26'>27</a>\u001b[0m \u001b[39m# Ahora puedes trabajar con 'temp.name' que es la ruta al archivo temporal\u001b[39;00m\n\u001b[0;32m     <a href='vscode-notebook-cell:/c%3A/Users/juanj/Workspace/business_Intelligence/PRONOSTICO-JERARQUICO/Pred-financiamiento-sec-priv.ipynb#X32sZmlsZQ%3D%3D?line=27'>28</a>\u001b[0m \u001b[39m#Ruta de archivos\u001b[39;00m\n\u001b[0;32m     <a href='vscode-notebook-cell:/c%3A/Users/juanj/Workspace/business_Intelligence/PRONOSTICO-JERARQUICO/Pred-financiamiento-sec-priv.ipynb#X32sZmlsZQ%3D%3D?line=28'>29</a>\u001b[0m \u001b[39m# Leemos el archivo csv\u001b[39;00m\n\u001b[1;32m---> <a href='vscode-notebook-cell:/c%3A/Users/juanj/Workspace/business_Intelligence/PRONOSTICO-JERARQUICO/Pred-financiamiento-sec-priv.ipynb#X32sZmlsZQ%3D%3D?line=29'>30</a>\u001b[0m datos \u001b[39m=\u001b[39m pd\u001b[39m.\u001b[39;49mread_csv([temp\u001b[39m.\u001b[39;49mname])\n\u001b[0;32m     <a href='vscode-notebook-cell:/c%3A/Users/juanj/Workspace/business_Intelligence/PRONOSTICO-JERARQUICO/Pred-financiamiento-sec-priv.ipynb#X32sZmlsZQ%3D%3D?line=30'>31</a>\u001b[0m \u001b[39m#print(datos)\u001b[39;00m\n\u001b[0;32m     <a href='vscode-notebook-cell:/c%3A/Users/juanj/Workspace/business_Intelligence/PRONOSTICO-JERARQUICO/Pred-financiamiento-sec-priv.ipynb#X32sZmlsZQ%3D%3D?line=32'>33</a>\u001b[0m resultado \u001b[39m=\u001b[39m datos\u001b[39m.\u001b[39mloc[datos[\u001b[39m'\u001b[39m\u001b[39mClave_de_municipio\u001b[39m\u001b[39m'\u001b[39m] \u001b[39m==\u001b[39m \u001b[39m'\u001b[39m\u001b[39m1\u001b[39m\u001b[39m'\u001b[39m]\n",
      "File \u001b[1;32mc:\\Users\\juanj\\AppData\\Local\\Programs\\Python\\Python310\\lib\\site-packages\\pandas\\util\\_decorators.py:211\u001b[0m, in \u001b[0;36mdeprecate_kwarg.<locals>._deprecate_kwarg.<locals>.wrapper\u001b[1;34m(*args, **kwargs)\u001b[0m\n\u001b[0;32m    209\u001b[0m     \u001b[39melse\u001b[39;00m:\n\u001b[0;32m    210\u001b[0m         kwargs[new_arg_name] \u001b[39m=\u001b[39m new_arg_value\n\u001b[1;32m--> 211\u001b[0m \u001b[39mreturn\u001b[39;00m func(\u001b[39m*\u001b[39margs, \u001b[39m*\u001b[39m\u001b[39m*\u001b[39mkwargs)\n",
      "File \u001b[1;32mc:\\Users\\juanj\\AppData\\Local\\Programs\\Python\\Python310\\lib\\site-packages\\pandas\\util\\_decorators.py:331\u001b[0m, in \u001b[0;36mdeprecate_nonkeyword_arguments.<locals>.decorate.<locals>.wrapper\u001b[1;34m(*args, **kwargs)\u001b[0m\n\u001b[0;32m    325\u001b[0m \u001b[39mif\u001b[39;00m \u001b[39mlen\u001b[39m(args) \u001b[39m>\u001b[39m num_allow_args:\n\u001b[0;32m    326\u001b[0m     warnings\u001b[39m.\u001b[39mwarn(\n\u001b[0;32m    327\u001b[0m         msg\u001b[39m.\u001b[39mformat(arguments\u001b[39m=\u001b[39m_format_argument_list(allow_args)),\n\u001b[0;32m    328\u001b[0m         \u001b[39mFutureWarning\u001b[39;00m,\n\u001b[0;32m    329\u001b[0m         stacklevel\u001b[39m=\u001b[39mfind_stack_level(),\n\u001b[0;32m    330\u001b[0m     )\n\u001b[1;32m--> 331\u001b[0m \u001b[39mreturn\u001b[39;00m func(\u001b[39m*\u001b[39margs, \u001b[39m*\u001b[39m\u001b[39m*\u001b[39mkwargs)\n",
      "File \u001b[1;32mc:\\Users\\juanj\\AppData\\Local\\Programs\\Python\\Python310\\lib\\site-packages\\pandas\\io\\parsers\\readers.py:950\u001b[0m, in \u001b[0;36mread_csv\u001b[1;34m(filepath_or_buffer, sep, delimiter, header, names, index_col, usecols, squeeze, prefix, mangle_dupe_cols, dtype, engine, converters, true_values, false_values, skipinitialspace, skiprows, skipfooter, nrows, na_values, keep_default_na, na_filter, verbose, skip_blank_lines, parse_dates, infer_datetime_format, keep_date_col, date_parser, dayfirst, cache_dates, iterator, chunksize, compression, thousands, decimal, lineterminator, quotechar, quoting, doublequote, escapechar, comment, encoding, encoding_errors, dialect, error_bad_lines, warn_bad_lines, on_bad_lines, delim_whitespace, low_memory, memory_map, float_precision, storage_options)\u001b[0m\n\u001b[0;32m    935\u001b[0m kwds_defaults \u001b[39m=\u001b[39m _refine_defaults_read(\n\u001b[0;32m    936\u001b[0m     dialect,\n\u001b[0;32m    937\u001b[0m     delimiter,\n\u001b[1;32m   (...)\u001b[0m\n\u001b[0;32m    946\u001b[0m     defaults\u001b[39m=\u001b[39m{\u001b[39m\"\u001b[39m\u001b[39mdelimiter\u001b[39m\u001b[39m\"\u001b[39m: \u001b[39m\"\u001b[39m\u001b[39m,\u001b[39m\u001b[39m\"\u001b[39m},\n\u001b[0;32m    947\u001b[0m )\n\u001b[0;32m    948\u001b[0m kwds\u001b[39m.\u001b[39mupdate(kwds_defaults)\n\u001b[1;32m--> 950\u001b[0m \u001b[39mreturn\u001b[39;00m _read(filepath_or_buffer, kwds)\n",
      "File \u001b[1;32mc:\\Users\\juanj\\AppData\\Local\\Programs\\Python\\Python310\\lib\\site-packages\\pandas\\io\\parsers\\readers.py:605\u001b[0m, in \u001b[0;36m_read\u001b[1;34m(filepath_or_buffer, kwds)\u001b[0m\n\u001b[0;32m    602\u001b[0m _validate_names(kwds\u001b[39m.\u001b[39mget(\u001b[39m\"\u001b[39m\u001b[39mnames\u001b[39m\u001b[39m\"\u001b[39m, \u001b[39mNone\u001b[39;00m))\n\u001b[0;32m    604\u001b[0m \u001b[39m# Create the parser.\u001b[39;00m\n\u001b[1;32m--> 605\u001b[0m parser \u001b[39m=\u001b[39m TextFileReader(filepath_or_buffer, \u001b[39m*\u001b[39m\u001b[39m*\u001b[39mkwds)\n\u001b[0;32m    607\u001b[0m \u001b[39mif\u001b[39;00m chunksize \u001b[39mor\u001b[39;00m iterator:\n\u001b[0;32m    608\u001b[0m     \u001b[39mreturn\u001b[39;00m parser\n",
      "File \u001b[1;32mc:\\Users\\juanj\\AppData\\Local\\Programs\\Python\\Python310\\lib\\site-packages\\pandas\\io\\parsers\\readers.py:1442\u001b[0m, in \u001b[0;36mTextFileReader.__init__\u001b[1;34m(self, f, engine, **kwds)\u001b[0m\n\u001b[0;32m   1439\u001b[0m     \u001b[39mself\u001b[39m\u001b[39m.\u001b[39moptions[\u001b[39m\"\u001b[39m\u001b[39mhas_index_names\u001b[39m\u001b[39m\"\u001b[39m] \u001b[39m=\u001b[39m kwds[\u001b[39m\"\u001b[39m\u001b[39mhas_index_names\u001b[39m\u001b[39m\"\u001b[39m]\n\u001b[0;32m   1441\u001b[0m \u001b[39mself\u001b[39m\u001b[39m.\u001b[39mhandles: IOHandles \u001b[39m|\u001b[39m \u001b[39mNone\u001b[39;00m \u001b[39m=\u001b[39m \u001b[39mNone\u001b[39;00m\n\u001b[1;32m-> 1442\u001b[0m \u001b[39mself\u001b[39m\u001b[39m.\u001b[39m_engine \u001b[39m=\u001b[39m \u001b[39mself\u001b[39;49m\u001b[39m.\u001b[39;49m_make_engine(f, \u001b[39mself\u001b[39;49m\u001b[39m.\u001b[39;49mengine)\n",
      "File \u001b[1;32mc:\\Users\\juanj\\AppData\\Local\\Programs\\Python\\Python310\\lib\\site-packages\\pandas\\io\\parsers\\readers.py:1750\u001b[0m, in \u001b[0;36mTextFileReader._make_engine\u001b[1;34m(self, f, engine)\u001b[0m\n\u001b[0;32m   1748\u001b[0m \u001b[39melif\u001b[39;00m engine \u001b[39m!=\u001b[39m \u001b[39m\"\u001b[39m\u001b[39mpython\u001b[39m\u001b[39m\"\u001b[39m:\n\u001b[0;32m   1749\u001b[0m     msg \u001b[39m=\u001b[39m \u001b[39mf\u001b[39m\u001b[39m\"\u001b[39m\u001b[39mInvalid file path or buffer object type: \u001b[39m\u001b[39m{\u001b[39;00m\u001b[39mtype\u001b[39m(f)\u001b[39m}\u001b[39;00m\u001b[39m\"\u001b[39m\n\u001b[1;32m-> 1750\u001b[0m     \u001b[39mraise\u001b[39;00m \u001b[39mValueError\u001b[39;00m(msg)\n\u001b[0;32m   1752\u001b[0m \u001b[39mtry\u001b[39;00m:\n\u001b[0;32m   1753\u001b[0m     \u001b[39mreturn\u001b[39;00m mapping[engine](f, \u001b[39m*\u001b[39m\u001b[39m*\u001b[39m\u001b[39mself\u001b[39m\u001b[39m.\u001b[39moptions)\n",
      "\u001b[1;31mValueError\u001b[0m: Invalid file path or buffer object type: <class 'list'>"
     ]
    }
   ],
   "source": [
    "\n",
    "import pandas as pd\n",
    "import numpy as np\n",
    "import matplotlib.pyplot as plt\n",
    "#copiado y archivo temporal\n",
    "import shutil\n",
    "import tempfile\n",
    "# librerias para pronostico series de tiempo \n",
    "#empleando metodologia SARIMA\n",
    "from statsmodels.tsa.arima.model import ARIMA\n",
    "from statsmodels.graphics.tsaplots import plot_acf, plot_pacf\n",
    "#se buscara realizar un modelo de pronostico de posibles clientes o \n",
    "#poblacion objetivo dentro de la zona de estudio definida como San\n",
    "# Nicolas de los Garza en el estado de Nuevo Leon \n",
    "\n",
    "#generamos un aerchivo temporal donde se realizara una copia de los\n",
    "# datos que usaremos para trabajas, de nomodo que no los corrompamos\n",
    "\n",
    "# Ruta del archivo original\n",
    "archivo_original = 'C:/Users/juanj/Workspace/business_Intelligence/PROYECTO FINAL/poblacion_edades_nuevo_leon_claves_manzana.csv'\n",
    "\n",
    "# Crear un archivo temporal\n",
    "temp = tempfile.NamedTemporaryFile(delete=False)\n",
    "\n",
    "# Copiar el contenido del archivo original al archivo temporal\n",
    "shutil.copyfile(archivo_original, temp.name)\n",
    "\n",
    "# Ahora puedes trabajar con 'temp.name' que es la ruta al archivo temporal\n",
    "#Ruta de archivos\n",
    "# Leemos el archivo csv\n",
    "datos = pd.read_csv(temp.name)\n",
    "#print(datos)\n",
    "\n",
    "resultado = datos.loc[datos['Clave_de_municipio'] == '1']\n",
    "\n",
    "print(resultado)\n"
   ]
  }
 ],
 "metadata": {
  "kernelspec": {
   "display_name": "Python 3",
   "language": "python",
   "name": "python3"
  },
  "language_info": {
   "codemirror_mode": {
    "name": "ipython",
    "version": 3
   },
   "file_extension": ".py",
   "mimetype": "text/x-python",
   "name": "python",
   "nbconvert_exporter": "python",
   "pygments_lexer": "ipython3",
   "version": "3.10.10"
  }
 },
 "nbformat": 4,
 "nbformat_minor": 2
}
